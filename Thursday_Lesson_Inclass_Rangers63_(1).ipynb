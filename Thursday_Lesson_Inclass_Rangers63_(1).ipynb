
      "source": [
        "### Exercise 1 - Turn the shopping cart program from yesterday into an object-oriented program\n",
        "\n",
        "The comments in the cell below are there as a guide for thinking about the problem. However, if you feel a different way is best for you and your own thought process, please do what feels best for you by all means."
      ]
    },
    {
      "cell_type": "code",
      "execution_count": 10,
      "metadata": {
        "id": "VMmtwzH7i0iv",
        "colab": {
          "base_uri": "https://localhost:8080/"
        },
        "outputId": "3d44a8de-6116-4566-ce24-4ed43dd81f0c"
      },
      "outputs": [
        {
          "output_type": "stream",
          "name": "stdout",
          "text": [
            "Welcome to The Store! Let's fill your cart!\n",
            "To access your cart select: 'a' to add an item,'d' to delete an item, 's' to show or review your cart\n",
            "'c' to clear the cart and start over, or 'q' to quit shopping. \n",
            "What would you like to do? Add (a), Delete (d), Show (s), Clear(c) or Quit (q)? a\n",
            "Add item (or 'r' to return): rope\n",
            "Your Cart: \n",
            "1 -  rope\n",
            "Add item (or 'r' to return): scissors\n",
            "Your Cart: \n",
            "1 -  rope\n",
            "2 -  scissors\n",
            "Add item (or 'r' to return): saw\n",
            "Your Cart: \n",
            "1 -  rope\n",
            "2 -  scissors\n",
            "3 -  saw\n",
            "Add item (or 'r' to return): sanvas\n",
            "Your Cart: \n",
            "1 -  rope\n",
            "2 -  scissors\n",
            "3 -  saw\n",
            "4 -  sanvas\n",
            "Add item (or 'r' to return): r\n",
            "Your Cart: \n",
            "1 -  rope\n",
            "2 -  scissors\n",
            "3 -  saw\n",
            "4 -  sanvas\n",
            "What would you like to do? Add (a), Delete (d), Show (s), Clear(c) or Quit (q)? d\n",
            "Your Cart: \n",
            "1 -  rope\n",
            "2 -  scissors\n",
            "3 -  saw\n",
            "4 -  sanvas\n",
            "Enter the number of the item to remove: 4\n",
            "Your Cart: \n",
            "1 -  rope\n",
            "2 -  scissors\n",
            "3 -  saw\n",
            "What would you like to do? Add (a), Delete (d), Show (s), Clear(c) or Quit (q)? q\n",
            "Your Cart: \n",
            "1 -  rope\n",
            "2 -  scissors\n",
            "3 -  saw\n"
          ]
        }
      ],
      "source": [
        "# Create a class called cart that retains items and has methods to add, remove, and show\n",
        "\n",
        "class Cart():\n",
        "  def __init__ (self, items = []):\n",
        "    self.items = items\n",
        "\n",
        "  def print_shopping_cart(self):\n",
        "    if self.items:\n",
        "        self.items == sorted(list(self.items))\n",
        "        print('Your Cart: ')\n",
        "        for count, item in enumerate(self.items, 1):\n",
        "            print(str(count), \"- \", item)\n",
        "    else:\n",
        "        print('Your cart is empty.')\n",
        "\n",
        "  def addToCart(self):\n",
        "    while True:\n",
        "      addItem = input(\"Add item (or 'r' to return): \")\n",
        "      if addItem.lower() != 'r':\n",
        "        self.items.append(addItem)\n",
        "        self.print_shopping_cart()\n",
        "      else:\n",
        "        self.print_shopping_cart()\n",
        "        break\n",
        "\n",
        "  def removeFromCart(self):\n",
        "    self.print_shopping_cart()\n",
        "    removeItem = int(input('Enter the number of the item to remove: '))\n",
        "    del self.items[removeItem-1]\n",
        "    self.print_shopping_cart()\n",
        "\n",
        "  def run_cart(self):\n",
        "    print ('Welcome to The Store! Let\\'s fill your cart!')\n",
        "    print (\"To access your cart select: 'a' to add an item,'d' to delete an item, 's' to show or review your cart\")\n",
        "    print (\"'c' to clear the cart and start over, or 'q' to quit shopping. \")\n",
        "    while True:\n",
        "        action = input ('What would you like to do? Add (a), Delete (d), Show (s), Clear(c) or Quit (q)? ')\n",
        "        if action == 'a':\n",
        "            self.addToCart()\n",
        "        elif action == 'd':\n",
        "            self.removeFromCart()\n",
        "        elif action == 's':\n",
        "            self.print_shopping_cart()\n",
        "        elif action == 'c':\n",
        "            self.items.clear()\n",
        "            self.print_shopping_cart()\n",
        "        elif action == 'q':\n",
        "            break\n",
        "    self.print_shopping_cart()\n",
        "\n",
        "tripOne = Cart()\n",
        "tripOne.run_cart()"
      ]
    },
    {
      "cell_type": "markdown",
      "metadata": {
        "id": "0EECH7cqi0iv"
      },
      "source": [
        "### Exercise 2 - Write a Python class which has two methods get_String and print_String. get_String accept a string from the user and print_String print the string in upper case"
      ]
    },
    {
      "cell_type": "code",
      "execution_count": 14,
      "metadata": {
        "id": "bpvLBOvUi0iv",
        "colab": {
          "base_uri": "https://localhost:8080/"
        },
        "outputId": "f4340cc7-c8de-4a0a-ece7-b882596ae853"
      },
      "outputs": [
        {
          "output_type": "stream",
          "name": "stdout",
          "text": [
            "Enter your text here: hey there\n",
            "HEY THERE\n"
          ]
        }
      ],
      "source": [
        "class getPrint():\n",
        "  def __init__(self, userString =''):\n",
        "    self.userString = userString\n",
        "\n",
        "  def get_String(self):\n",
        "    self.userString = input('Enter your text here: ')\n",
        "\n",
        "  def print_String(self):\n",
        "    print (self.userString.upper())\n",
        "\n",
        "message = getPrint()\n",
        "message.get_String()\n",
        "message.print_String()"
      ]
    }
  ],
  "metadata": {
    "kernelspec": {
      "display_name": "Python 3",
      "language": "python",
      "name": "python3"
    },
    "language_info": {
      "codemirror_mode": {
        "name": "ipython",
        "version": 3
      },
      "file_extension": ".py",
      "mimetype": "text/x-python",
      "name": "python",
      "nbconvert_exporter": "python",
      "pygments_lexer": "ipython3",
      "version": "3.8.5"
    },
    "colab": {
      "provenance": [],
      "include_colab_link": true
    }
  },
  "nbformat": 4,
  "nbformat_minor": 0
}
