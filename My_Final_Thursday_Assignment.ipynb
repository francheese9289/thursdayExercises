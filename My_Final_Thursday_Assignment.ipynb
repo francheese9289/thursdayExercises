{
  "cells": [
    {
      "cell_type": "markdown",
      "metadata": {
        "id": "view-in-github",
        "colab_type": "text"
      },
      "source": [
        "<a href=\"https://colab.research.google.com/github/francheese9289/thursdayExercises/blob/main/My_Final_Thursday_Assignment.ipynb\" target=\"_parent\"><img src=\"https://colab.research.google.com/assets/colab-badge.svg\" alt=\"Open In Colab\"/></a>"
      ]
    },
    {
      "cell_type": "markdown",
      "metadata": {
        "id": "-yp5qkKDi0ib"
      },
      "source": [
        "# Object-Oriented-Programming (OOP)"
      ]
    },
    {
      "cell_type": "markdown",
      "metadata": {
        "id": "H2_aL033i0ie"
      },
      "source": [
        "## Tasks Today:\n",
        "\n",
        "   \n",
        "\n",
        "1) <b>Creating a Class (Initializing/Declaring)</b> <br>\n",
        "2) <b>Using a Class (Instantiating)</b> <br>\n",
        " &nbsp;&nbsp;&nbsp;&nbsp; a) Creating One Instance <br>\n",
        " &nbsp;&nbsp;&nbsp;&nbsp; b) Creating Multiple Instances <br>\n",
        " &nbsp;&nbsp;&nbsp;&nbsp; c) In-Class Exercise #1 - Create a Class 'Car' and instantiate three different makes of cars <br>\n",
        "3) <b>The \\__init\\__() Method</b> <br>\n",
        " &nbsp;&nbsp;&nbsp;&nbsp; a) The 'self' Attribute <br>\n",
        "4) <b>Class Attributes</b> <br>\n",
        " &nbsp;&nbsp;&nbsp;&nbsp; a) Initializing Attributes <br>\n",
        " &nbsp;&nbsp;&nbsp;&nbsp; b) Setting an Attribute Outside of the \\__init\\__() Method <br>\n",
        " &nbsp;&nbsp;&nbsp;&nbsp; c) Setting Defaults for Attributes <br>\n",
        " &nbsp;&nbsp;&nbsp;&nbsp; d) Accessing Class Attributes <br>\n",
        " &nbsp;&nbsp;&nbsp;&nbsp; e) Changing Class Attributes <br>\n",
        " &nbsp;&nbsp;&nbsp;&nbsp; f) In-Class Exercise #2 - Add a color and wheels attribute to your 'Car' class <br>\n",
        "5) <b>Class Methods</b> <br>\n",
        " &nbsp;&nbsp;&nbsp;&nbsp; a) Creating <br>\n",
        " &nbsp;&nbsp;&nbsp;&nbsp; b) Calling <br>\n",
        " &nbsp;&nbsp;&nbsp;&nbsp; c) Modifying an Attribute's Value Through a Method <br>\n",
        " &nbsp;&nbsp;&nbsp;&nbsp; d) Incrementing an Attribute's Value Through a Method <br>\n",
        " &nbsp;&nbsp;&nbsp;&nbsp; e) In-Class Exercise #3 - Add a method that prints the cars color and wheel number, then call them <br>\n",
        "6) <b>Inheritance</b> <br>\n",
        " &nbsp;&nbsp;&nbsp;&nbsp; a) Syntax for Inheriting from a Parent Class <br>\n",
        " &nbsp;&nbsp;&nbsp;&nbsp; b) The \\__init\\__() Method for a Child Class (super()) <br>\n",
        " &nbsp;&nbsp;&nbsp;&nbsp; c) Defining Attributes and Methods for the Child Class <br>\n",
        " &nbsp;&nbsp;&nbsp;&nbsp; d) Method Overriding <br>\n",
        " &nbsp;&nbsp;&nbsp;&nbsp; e) In-Class Exercise #4 - Create a class 'Ford' that inherits from 'Car' class and initialize it as a Blue Ford Explorer with 4 wheels using the super() method <br>\n",
        "7) <b>Classes as Attributes</b> <br>\n",
        "8) <b>Exercises</b> <br>\n",
        " &nbsp;&nbsp;&nbsp;&nbsp; a) Exercise #1 - Turn the shopping cart program from yesterday into an object-oriented program <br>"
      ]
    },
    {
      "cell_type": "markdown",
      "metadata": {
        "id": "AUucj7pFi0ig"
      },
      "source": [
        "## Creating a Class (Initializing/Declaring)\n",
        "<p>When creating a class, function, or even a variable you are initializing that object. Initializing and Declaring occur at the same time in Python, whereas in lower level languages you have to declare an object before initializing it. This is the first step in the process of using a class.</p>"
      ]
    },
    {
      "cell_type": "code",
      "execution_count": null,
      "metadata": {
        "id": "DhRCA4zCi0ih"
      },
      "outputs": [],
      "source": [
        "class Car():\n",
        "    wheels = 4\n",
        "    color = 'blue'\n",
        "    \"\"\"This should be in an init method\"\"\""
      ]
    },
    {
      "cell_type": "markdown",
      "metadata": {
        "id": "gEJwKaN0i0ij"
      },
      "source": [
        "## Using a Class (Instantiating)\n",
        "<p>The process of creating a class is called <i>Instantiating</i>. Each time you create a variable of that type of class, it is referred to as an <i>Instance</i> of that class. This is the second step in the process of using a class.</p>"
      ]
    },
    {
      "cell_type": "markdown",
      "metadata": {
        "id": "bEAmnltSi0ij"
      },
      "source": [
        "##### Creating One Instance"
      ]
    },
    {
      "cell_type": "code",
      "execution_count": null,
      "metadata": {
        "colab": {
          "base_uri": "https://localhost:8080/"
        },
        "id": "IZdAr4G3i0ij",
        "outputId": "8e2c613b-2531-4eeb-a959-b6654a3b9ca3"
      },
      "outputs": [
        {
          "output_type": "stream",
          "name": "stdout",
          "text": [
            "4\n"
          ]
        }
      ],
      "source": [
        "ford = Car()\n",
        "print(ford.wheels)"
      ]
    },
    {
      "cell_type": "markdown",
      "metadata": {
        "id": "LI2G5MYhi0ik"
      },
      "source": [
        "##### Creating Multiple Instances"
      ]
    },
    {
      "cell_type": "code",
      "execution_count": null,
      "metadata": {
        "colab": {
          "base_uri": "https://localhost:8080/"
        },
        "id": "ClSgFdGNi0ik",
        "outputId": "062ee3e4-0b4a-42c9-ccc2-f98c71e2ea24"
      },
      "outputs": [
        {
          "output_type": "stream",
          "name": "stdout",
          "text": [
            "<class 'str'>\n"
          ]
        }
      ],
      "source": [
        "chevy = Car()\n",
        "honda = Car()\n",
        "porsche = Car()\n",
        "\n",
        "print(type(porsche.color))"
      ]
    },
    {
      "cell_type": "markdown",
      "metadata": {
        "id": "1pIGDkTti0ik"
      },
      "source": [
        "##### In-Class Exercise #1 - Create a Class 'Car' and Instantiate three different makes of cars"
      ]
    },
    {
      "cell_type": "code",
      "execution_count": null,
      "metadata": {
        "id": "g50B3sTPi0ik"
      },
      "outputs": [],
      "source": []
    },
    {
      "cell_type": "markdown",
      "metadata": {
        "id": "pjEpngBDi0il"
      },
      "source": [
        "## The \\__init\\__() Method <br>\n",
        "<p>This method is used in almost every created class, and called only once upon the creation of the class instance. This method will initialize all variables needed for the object.</p>"
      ]
    },
    {
      "cell_type": "code",
      "execution_count": null,
      "metadata": {
        "colab": {
          "base_uri": "https://localhost:8080/"
        },
        "id": "neNr_0vai0il",
        "outputId": "6efa7761-389d-4401-9a44-011b2c234966"
      },
      "outputs": [
        {
          "output_type": "stream",
          "name": "stdout",
          "text": [
            "4\n",
            "6\n"
          ]
        }
      ],
      "source": [
        "class Car():\n",
        "  engine = '4.7L' #constant attribute\n",
        "\n",
        "  def __init__(self,wheels,color): #this is ready to go automatically, will pass into any instance\n",
        "    self.wheels = wheels\n",
        "    self.color = color\n",
        "\n",
        "ford = Car(4, 'red')\n",
        "chevy = Car(6, 'black')\n",
        "\n",
        "print(ford.wheels)\n",
        "print(chevy.wheels)"
      ]
    },
    {
      "cell_type": "markdown",
      "metadata": {
        "id": "7ARJuOgEi0il"
      },
      "source": [
        "##### The 'self' Attribute <br>\n",
        "<p>This attribute is required to keep track of specific instance's attributes. Without the self attribute, the program would not know how to reference or keep track of an instance's attributes.</p>"
      ]
    },
    {
      "cell_type": "code",
      "execution_count": null,
      "metadata": {
        "id": "M8U31AYvi0im"
      },
      "outputs": [],
      "source": [
        "# see above"
      ]
    },
    {
      "cell_type": "markdown",
      "metadata": {
        "id": "0O_WR22Qi0im"
      },
      "source": [
        "## Class Attributes <br>\n",
        "<p>While variables are inside of a class, they are referred to as attributes and not variables. When someone says 'attribute' you know they're speaking about a class. Attributes can be initialized through the init method, or outside of it.</p>"
      ]
    },
    {
      "cell_type": "markdown",
      "metadata": {
        "id": "1LuEnz06i0im"
      },
      "source": [
        "##### Initializing Attributes"
      ]
    },
    {
      "cell_type": "code",
      "execution_count": null,
      "metadata": {
        "id": "N-GeLWGqi0im"
      },
      "outputs": [],
      "source": [
        "# see above\n",
        "class Toy():\n",
        "  kind = 'car'\n",
        "\n",
        "  def __init__(self, rooftop, horn, wheels = 4):\n",
        "    self.rooftop = rooftop\n",
        "    self.horn = horn\n",
        "    self.wheels = wheels #don't need to pass an argument into this\n",
        "\n",
        "tonka_truck = Toy(1,1)\n",
        "hotwheels_car = Toy (2,3,8)"
      ]
    },
    {
      "cell_type": "markdown",
      "metadata": {
        "id": "4QpnwsX7i0im"
      },
      "source": [
        "##### Accessing Class Attributes"
      ]
    },
    {
      "cell_type": "code",
      "execution_count": null,
      "metadata": {
        "scrolled": true,
        "colab": {
          "base_uri": "https://localhost:8080/"
        },
        "id": "7yIqvOddi0im",
        "outputId": "661b8b0f-9cf8-46da-af08-44f0f340d15c"
      },
      "outputs": [
        {
          "output_type": "stream",
          "name": "stdout",
          "text": [
            "1\n",
            "8\n"
          ]
        }
      ],
      "source": [
        "print (tonka_truck.horn)\n",
        "print (hotwheels_car.wheels) #overwrote the given attribute"
      ]
    },
    {
      "cell_type": "markdown",
      "metadata": {
        "id": "LQ3tQsr2i0in"
      },
      "source": [
        "##### Setting Defaults for Attributes"
      ]
    },
    {
      "cell_type": "code",
      "execution_count": null,
      "metadata": {
        "colab": {
          "base_uri": "https://localhost:8080/"
        },
        "id": "0rjc94Ysi0in",
        "outputId": "deda2901-bb74-4cae-8020-d1357edec133"
      },
      "outputs": [
        {
          "output_type": "stream",
          "name": "stdout",
          "text": [
            "Blue\n",
            "5.4L\n",
            "2\n"
          ]
        }
      ],
      "source": [
        "class Car():\n",
        "  engine = '4.7L'\n",
        "\n",
        "  def __init__(self,wheels):\n",
        "    self.wheels = wheels\n",
        "    self.color = 'Blue' #cannot overwrite\n",
        "\n",
        "honda = Car(4)\n",
        "print (honda.color)\n",
        "honda.engine = '5.4L'\n",
        "print(honda.engine)\n",
        "honda.doors = 2\n",
        "print(honda.doors) #this worked but is it the right way?"
      ]
    },
    {
      "cell_type": "markdown",
      "metadata": {
        "id": "VSCTi3JPi0in"
      },
      "source": [
        "##### Changing Class Attributes <br>\n",
        "<p>Keep in mind there are global class attributes and then there are attributes only available to each class instance which won't effect other classes.</p>"
      ]
    },
    {
      "cell_type": "code",
      "execution_count": null,
      "metadata": {
        "id": "bEZjv9Uni0in"
      },
      "outputs": [],
      "source": [
        "#engine example above"
      ]
    },
    {
      "cell_type": "code",
      "execution_count": null,
      "metadata": {
        "id": "22W4DXNCi0in"
      },
      "outputs": [],
      "source": [
        "\n"
      ]
    },
    {
      "cell_type": "markdown",
      "metadata": {
        "id": "fXqn32Axi0in"
      },
      "source": [
        "##### In-Class Exercise #2 - Add a doors and seats attribute to your 'Car' class then print out two different instances with different doors and seats"
      ]
    },
    {
      "cell_type": "code",
      "execution_count": null,
      "metadata": {
        "colab": {
          "base_uri": "https://localhost:8080/"
        },
        "id": "QBdfU-AOi0in",
        "outputId": "b2bac953-98bd-48c5-9ac4-fff4a2960aa1"
      },
      "outputs": [
        {
          "output_type": "stream",
          "name": "stdout",
          "text": [
            "4\n",
            "5\n",
            "2\n",
            "4\n"
          ]
        }
      ],
      "source": [
        "class Car():\n",
        "  engine = '4.7L'\n",
        "\n",
        "  def __init__(self,wheels,color,doors,seats):\n",
        "    self.wheels = wheels\n",
        "    self.color = color\n",
        "    self.doors = doors\n",
        "    self.seats = seats\n",
        "\n",
        "subaru_impreza = Car(4,'silver', 4, 5)\n",
        "jeep = Car(4, 'green', 2, 4)\n",
        "\n",
        "print (subaru_impreza.doors)\n",
        "print (subaru_impreza.seats)\n",
        "print (jeep.doors)\n",
        "print (jeep.seats)\n"
      ]
    },
    {
      "cell_type": "markdown",
      "metadata": {
        "id": "cDDqXABzi0io"
      },
      "source": [
        "## Class Methods <br>\n",
        "<p>While inside of a class, functions are referred to as 'methods'. If you hear someone mention methods, they're speaking about classes. Methods are essentially functions, but only callable on the instances of a class.</p>"
      ]
    },
    {
      "cell_type": "markdown",
      "metadata": {
        "id": "coqB67rsi0io"
      },
      "source": [
        "##### Creating"
      ]
    },
    {
      "cell_type": "code",
      "execution_count": null,
      "metadata": {
        "id": "YfPBTTLoi0io"
      },
      "outputs": [],
      "source": [
        "class ShoppingBag ():\n",
        "\n",
        "  '''\n",
        "    The ShoppingBag class will have handles, capacity,\n",
        "    and items to place inside.\n",
        "\n",
        "    Attributes for the class:\n",
        "    - handles expected an integer\n",
        "     - items expected to be a list\n",
        "    - capacity expected to be an integer\n",
        "  '''\n",
        "\n",
        "  def __init__(self, handles, items = [], capacity = 10): #constant attributes should be at END\n",
        "    self.handles = handles #whatever is submitted for handles, to *self.handles*\n",
        "    self.items = items\n",
        "    self.capacity = capacity\n",
        "\n",
        "  def showShoppingBag(self): #self helps methods talk to each other\n",
        "    if len(self.items) == 0:\n",
        "      print ('You have no items.')\n",
        "    else:\n",
        "      print ('You have items in your bag!!!')\n",
        "      for item in self.items:\n",
        "        print (item)\n",
        "\n",
        "  def showCapacity(self):\n",
        "    print(f'Your remaining capacity is: {self.capacity-len(self.items)}')\n",
        "\n",
        "  def addToShoppingBag(self): #if capacity is full reject new items\n",
        "    if len(self.items) == self.capacity:\n",
        "      print ('You have no more room.')\n",
        "    else:\n",
        "      product = input('What would you like to add? ') #taking user input and passing into items list\n",
        "      self.items.append(product)\n",
        "\n",
        "  def showHandles(self):\n",
        "    print(f'You have {self.handles} handles on your bag.')\n",
        "\n"
      ]
    },
    {
      "cell_type": "markdown",
      "metadata": {
        "id": "rAvvF4g0i0io"
      },
      "source": [
        "##### Calling"
      ]
    },
    {
      "cell_type": "code",
      "execution_count": null,
      "metadata": {
        "colab": {
          "base_uri": "https://localhost:8080/"
        },
        "id": "yo4b0_mki0io",
        "outputId": "40601703-4ca5-4b64-c094-8d2a925a9cb5"
      },
      "outputs": [
        {
          "output_type": "stream",
          "name": "stdout",
          "text": [
            "What would you like to do?\n",
            "\n",
            "You may:\n",
            "-add\n",
            "-show\n",
            "-quit\n",
            "add\n",
            "What would you like to add? grapes\n",
            "What would you like to do?\n",
            "\n",
            "You may:\n",
            "-add\n",
            "-show\n",
            "-quit\n",
            "cheese\n",
            "That is not a valid option. Please enter: \n",
            "-add\n",
            "-show\n",
            "-quit\n",
            "\n",
            "What would you like to do?\n",
            "\n",
            "You may:\n",
            "-add\n",
            "-show\n",
            "-quit\n",
            "show\n",
            "What would you like to see?\n",
            "-capacity\n",
            "-handles\n",
            "-shopping bag\n",
            "capacity\n",
            "Your remaining capacity is: 9\n",
            "What would you like to do?\n",
            "\n",
            "You may:\n",
            "-add\n",
            "-show\n",
            "-quit\n",
            "add\n",
            "What would you like to add? cheese\n",
            "What would you like to do?\n",
            "\n",
            "You may:\n",
            "-add\n",
            "-show\n",
            "-quit\n",
            "show\n",
            "What would you like to see?\n",
            "-capacity\n",
            "-handles\n",
            "-shopping bag\n",
            "boogers\n",
            "You have items in your bag!!!\n",
            "grapes\n",
            "cheese\n",
            "What would you like to do?\n",
            "\n",
            "You may:\n",
            "-add\n",
            "-show\n",
            "-quit\n",
            "quit\n",
            "You have items in your bag!!!\n",
            "grapes\n",
            "cheese\n",
            "Thanks for shopping!\n"
          ]
        }
      ],
      "source": [
        "#need to instantiate aka make an example of it/make it exist\n",
        "\n",
        "wholeFoodsBag = ShoppingBag(2) #just added handles, default items and capacity\n",
        "\n",
        "def run(): #helps choose which part of class to execute\n",
        "  while True:\n",
        "    response = input ('What would you like to do?\\n\\nYou may:\\n-add\\n-show\\n-quit\\n')\n",
        "\n",
        "    if response.lower() == 'quit':\n",
        "      wholeFoodsBag.showShoppingBag()\n",
        "      print('Thanks for shopping!')\n",
        "      break\n",
        "    elif response.lower() == 'add':\n",
        "      wholeFoodsBag.addToShoppingBag()\n",
        "    elif response.lower() == 'show':\n",
        "      showChoice = input('What would you like to see?\\n-capacity\\n-handles\\n-shopping bag\\n')\n",
        "      if showChoice.lower() == 'capacity':\n",
        "        wholeFoodsBag.showCapacity()\n",
        "      elif showChoice.lower() == 'handles':\n",
        "        wholeFoodsBag.showHandles()\n",
        "      else:\n",
        "        wholeFoodsBag.showShoppingBag()\n",
        "    else:\n",
        "      print('That is not a valid option. Please enter: \\n-add\\n-show\\n-quit\\n')\n",
        "\n",
        "\n",
        "run()"
      ]
    },
    {
      "cell_type": "markdown",
      "metadata": {
        "id": "wV07Lhdgi0io"
      },
      "source": [
        "##### Modifying an Attribute's Value Through a Method"
      ]
    },
    {
      "cell_type": "code",
      "execution_count": null,
      "metadata": {
        "id": "YEcIX1RIi0io"
      },
      "outputs": [],
      "source": []
    },
    {
      "cell_type": "markdown",
      "metadata": {
        "id": "7ScXOfdEi0io"
      },
      "source": [
        "##### Incrementing an Attribute's Value Through a Method"
      ]
    },
    {
      "cell_type": "code",
      "execution_count": null,
      "metadata": {
        "id": "z8lZdbd9i0io"
      },
      "outputs": [],
      "source": []
    },
    {
      "cell_type": "markdown",
      "metadata": {
        "id": "umdBReHsi0ip"
      },
      "source": [
        "##### In-Class Exercise #3 - Add a method that takes in three parameters of year, doors and seats and prints out a formatted print statement with make, model, year, seats, and doors"
      ]
    },
    {
      "cell_type": "code",
      "execution_count": null,
      "metadata": {
        "id": "qskSOM8yi0ip"
      },
      "outputs": [],
      "source": [
        "# Create class with 2 paramters inside of the __init__ which are make and model\n",
        "\n",
        "# Inside of the Car class create a method that has 4 parameter in total (self,year,door,seats)\n",
        "\n",
        "# Output: This car is from 2019 and is a Ford Expolorer and has 4 doors and 5 seats\n",
        "\n"
      ]
    },
    {
      "cell_type": "markdown",
      "metadata": {
        "id": "ayw1qJOfi0ip"
      },
      "source": [
        "## Inheritance <br>\n",
        "<p>You can create a child-parent relationship between two classes by using inheritance. What this allows you to do is have overriding methods, but also inherit traits from the parent class. Think of it as an actual parent and child, the child will inherit the parent's genes, as will the classes in OOP</p>"
      ]
    },
    {
      "cell_type": "markdown",
      "metadata": {
        "id": "aVY17gkwi0iu"
      },
      "source": [
        "##### Syntax for Inheriting from a Parent Class"
      ]
    },
    {
      "cell_type": "code",
      "execution_count": null,
      "metadata": {
        "id": "egqtakyQi0iu"
      },
      "outputs": [],
      "source": []
    },
    {
      "cell_type": "markdown",
      "metadata": {
        "id": "qR-gCdqFi0iu"
      },
      "source": [
        "##### The \\__init\\__() Method for a Child Class - super()"
      ]
    },
    {
      "cell_type": "code",
      "execution_count": null,
      "metadata": {
        "scrolled": true,
        "id": "P2PRduzIi0iu"
      },
      "outputs": [],
      "source": []
    },
    {
      "cell_type": "markdown",
      "metadata": {
        "id": "KUJgCdEai0iu"
      },
      "source": [
        "##### Defining Attributes and Methods for the Child Class"
      ]
    },
    {
      "cell_type": "code",
      "execution_count": null,
      "metadata": {
        "id": "W18KvNnUi0iu"
      },
      "outputs": [],
      "source": [
        "# See Above"
      ]
    },
    {
      "cell_type": "markdown",
      "metadata": {
        "id": "ZSYtZ_ICi0iu"
      },
      "source": [
        "##### Method Overriding"
      ]
    },
    {
      "cell_type": "code",
      "execution_count": null,
      "metadata": {
        "id": "wEvA6UuIi0iu"
      },
      "outputs": [],
      "source": [
        "# See Above"
      ]
    },
    {
      "cell_type": "markdown",
      "metadata": {
        "id": "VT2hlxWPi0iv"
      },
      "source": [
        "## Classes as Attributes <br>\n",
        "<p>Classes can also be used as attributes within another class. This is useful in situations where you need to keep variables locally stored, instead of globally stored.</p>"
      ]
    },
    {
      "cell_type": "code",
      "execution_count": null,
      "metadata": {
        "id": "-ADD_-Gfi0iv"
      },
      "outputs": [],
      "source": []
    },
    {
      "cell_type": "markdown",
      "metadata": {
        "id": "z1kCKMoAi0iv"
      },
      "source": [
        "# Exercises"
      ]
    },
    {
      "cell_type": "markdown",
      "metadata": {
        "id": "ne1kfngqi0iv"
      },
      "source": [
        "### Exercise 1 - Turn the shopping cart program from yesterday into an object-oriented program\n",
        "\n",
        "The comments in the cell below are there as a guide for thinking about the problem. However, if you feel a different way is best for you and your own thought process, please do what feels best for you by all means."
      ]
    },
    {
      "cell_type": "code",
      "execution_count": 10,
      "metadata": {
        "id": "VMmtwzH7i0iv",
        "colab": {
          "base_uri": "https://localhost:8080/"
        },
        "outputId": "3d44a8de-6116-4566-ce24-4ed43dd81f0c"
      },
      "outputs": [
        {
          "output_type": "stream",
          "name": "stdout",
          "text": [
            "Welcome to The Store! Let's fill your cart!\n",
            "To access your cart select: 'a' to add an item,'d' to delete an item, 's' to show or review your cart\n",
            "'c' to clear the cart and start over, or 'q' to quit shopping. \n",
            "What would you like to do? Add (a), Delete (d), Show (s), Clear(c) or Quit (q)? a\n",
            "Add item (or 'r' to return): rope\n",
            "Your Cart: \n",
            "1 -  rope\n",
            "Add item (or 'r' to return): scissors\n",
            "Your Cart: \n",
            "1 -  rope\n",
            "2 -  scissors\n",
            "Add item (or 'r' to return): saw\n",
            "Your Cart: \n",
            "1 -  rope\n",
            "2 -  scissors\n",
            "3 -  saw\n",
            "Add item (or 'r' to return): sanvas\n",
            "Your Cart: \n",
            "1 -  rope\n",
            "2 -  scissors\n",
            "3 -  saw\n",
            "4 -  sanvas\n",
            "Add item (or 'r' to return): r\n",
            "Your Cart: \n",
            "1 -  rope\n",
            "2 -  scissors\n",
            "3 -  saw\n",
            "4 -  sanvas\n",
            "What would you like to do? Add (a), Delete (d), Show (s), Clear(c) or Quit (q)? d\n",
            "Your Cart: \n",
            "1 -  rope\n",
            "2 -  scissors\n",
            "3 -  saw\n",
            "4 -  sanvas\n",
            "Enter the number of the item to remove: 4\n",
            "Your Cart: \n",
            "1 -  rope\n",
            "2 -  scissors\n",
            "3 -  saw\n",
            "What would you like to do? Add (a), Delete (d), Show (s), Clear(c) or Quit (q)? q\n",
            "Your Cart: \n",
            "1 -  rope\n",
            "2 -  scissors\n",
            "3 -  saw\n"
          ]
        }
      ],
      "source": [
        "# Create a class called cart that retains items and has methods to add, remove, and show\n",
        "\n",
        "class Cart():\n",
        "  def __init__ (self, items = []):\n",
        "    self.items = items\n",
        "\n",
        "  def print_shopping_cart(self):\n",
        "    if self.items:\n",
        "        self.items == sorted(list(self.items))\n",
        "        print('Your Cart: ')\n",
        "        for count, item in enumerate(self.items, 1):\n",
        "            print(str(count), \"- \", item)\n",
        "    else:\n",
        "        print('Your cart is empty.')\n",
        "\n",
        "  def addToCart(self):\n",
        "    while True:\n",
        "      addItem = input(\"Add item (or 'r' to return): \")\n",
        "      if addItem.lower() != 'r':\n",
        "        self.items.append(addItem)\n",
        "        self.print_shopping_cart()\n",
        "      else:\n",
        "        self.print_shopping_cart()\n",
        "        break\n",
        "\n",
        "  def removeFromCart(self):\n",
        "    self.print_shopping_cart()\n",
        "    removeItem = int(input('Enter the number of the item to remove: '))\n",
        "    del self.items[removeItem-1]\n",
        "    self.print_shopping_cart()\n",
        "\n",
        "  def run_cart(self):\n",
        "    print ('Welcome to The Store! Let\\'s fill your cart!')\n",
        "    print (\"To access your cart select: 'a' to add an item,'d' to delete an item, 's' to show or review your cart\")\n",
        "    print (\"'c' to clear the cart and start over, or 'q' to quit shopping. \")\n",
        "    while True:\n",
        "        action = input ('What would you like to do? Add (a), Delete (d), Show (s), Clear(c) or Quit (q)? ')\n",
        "        if action == 'a':\n",
        "            self.addToCart()\n",
        "        elif action == 'd':\n",
        "            self.removeFromCart()\n",
        "        elif action == 's':\n",
        "            self.print_shopping_cart()\n",
        "        elif action == 'c':\n",
        "            self.items.clear()\n",
        "            self.print_shopping_cart()\n",
        "        elif action == 'q':\n",
        "            break\n",
        "    self.print_shopping_cart()\n",
        "\n",
        "tripOne = Cart()\n",
        "tripOne.run_cart()"
      ]
    },
    {
      "cell_type": "markdown",
      "metadata": {
        "id": "0EECH7cqi0iv"
      },
      "source": [
        "### Exercise 2 - Write a Python class which has two methods get_String and print_String. get_String accept a string from the user and print_String print the string in upper case"
      ]
    },
    {
      "cell_type": "code",
      "execution_count": 14,
      "metadata": {
        "id": "bpvLBOvUi0iv",
        "colab": {
          "base_uri": "https://localhost:8080/"
        },
        "outputId": "f4340cc7-c8de-4a0a-ece7-b882596ae853"
      },
      "outputs": [
        {
          "output_type": "stream",
          "name": "stdout",
          "text": [
            "Enter your text here: hey there\n",
            "HEY THERE\n"
          ]
        }
      ],
      "source": [
        "class getPrint():\n",
        "  def __init__(self, userString =''):\n",
        "    self.userString = userString\n",
        "\n",
        "  def get_String(self):\n",
        "    self.userString = input('Enter your text here: ')\n",
        "\n",
        "  def print_String(self):\n",
        "    print (self.userString.upper())\n",
        "\n",
        "message = getPrint()\n",
        "message.get_String()\n",
        "message.print_String()"
      ]
    }
  ],
  "metadata": {
    "kernelspec": {
      "display_name": "Python 3",
      "language": "python",
      "name": "python3"
    },
    "language_info": {
      "codemirror_mode": {
        "name": "ipython",
        "version": 3
      },
      "file_extension": ".py",
      "mimetype": "text/x-python",
      "name": "python",
      "nbconvert_exporter": "python",
      "pygments_lexer": "ipython3",
      "version": "3.8.5"
    },
    "colab": {
      "provenance": [],
      "include_colab_link": true
    }
  },
  "nbformat": 4,
  "nbformat_minor": 0
}